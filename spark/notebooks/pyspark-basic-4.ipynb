{
 "cells": [
  {
   "cell_type": "markdown",
   "metadata": {},
   "source": [
    "# 4일차 4교시 조인\n",
    "\n",
    "### 목차\n",
    "* 1. 조인 유형\n",
    "* 2. Inner Join\n",
    "* 3. Outer Join\n",
    "* 4. 조인 유의사항\n",
    "\n",
    "### 참고 사이트\n",
    "* [PySpark Search](https://spark.apache.org/docs/latest/api/python/search.html)\n",
    "* [Pyspark Functions](https://spark.apache.org/docs/latest/api/python/pyspark.sql.html?#module-pyspark.sql.functions)"
   ]
  },
  {
   "cell_type": "markdown",
   "metadata": {},
   "source": [
    "### 1. 조인 유형"
   ]
  },
  {
   "cell_type": "code",
   "execution_count": 2,
   "metadata": {},
   "outputs": [],
   "source": [
    "from pyspark.sql import SparkSession\n",
    "from pyspark.sql.functions import *\n",
    "\n",
    "spark = SparkSession \\\n",
    "    .builder \\\n",
    "    .config(\"spark.sql.session.timeZone\", \"Asia/Seoul\") \\\n",
    "    .getOrCreate()"
   ]
  },
  {
   "cell_type": "markdown",
   "metadata": {},
   "source": [
    "### JOIN 학습을 위해 상품은 단 하나만 구매할 수 있다고 가정하여 아래와 같은 테이블이 존재합니다\n",
    "#### 정보 1. 고객은 4명이지만, 1명은 탈퇴하여 존재하지 않습니다\n",
    "| 고객 아이디 (u_id) | 고객 이름 (u_name) | 고객 성별 (u_gender) |\n",
    "| - | - | - |\n",
    "| 1 | 정휘센 | 남 |\n",
    "| 2 | 김싸이언 | 남 |\n",
    "| 3 | 박트롬 | 여 |\n",
    "\n",
    "#### 정보 2. 구매 상품은 3개이며, 탈퇴한 고객의 상품정보가 남아있습니다\n",
    "| 구매 고객 아이디 (u_id) | 구매 상품 이름 (p_name) | 구매 상품 가격 (p_amount) |\n",
    "| - | - | - |\n",
    "| 2 | LG DIOS | 2,000,000 |\n",
    "| 3 | LG Cyon | 1,800,000 |\n",
    "| 4 | LG Computer | 4,500,000 |\n"
   ]
  },
  {
   "cell_type": "code",
   "execution_count": 3,
   "metadata": {},
   "outputs": [
    {
     "name": "stdout",
     "output_type": "stream",
     "text": [
      "root\n",
      " |-- u_id: long (nullable = true)\n",
      " |-- u_name: string (nullable = true)\n",
      " |-- u_gender: string (nullable = true)\n",
      "\n",
      "+----+--------+--------+\n",
      "|u_id|  u_name|u_gender|\n",
      "+----+--------+--------+\n",
      "|   1|  정휘센|      남|\n",
      "|   2|김싸이언|      남|\n",
      "|   3|  박트롬|      여|\n",
      "+----+--------+--------+\n",
      "\n",
      "root\n",
      " |-- p_uid: long (nullable = true)\n",
      " |-- p_name: string (nullable = true)\n",
      " |-- p_amont: long (nullable = true)\n",
      "\n",
      "+-----+-----------+-------+\n",
      "|p_uid|     p_name|p_amont|\n",
      "+-----+-----------+-------+\n",
      "|    2|    LG DIOS|2000000|\n",
      "|    3|    LG Cyon|1800000|\n",
      "|    4|LG Computer|4500000|\n",
      "+-----+-----------+-------+\n",
      "\n"
     ]
    }
   ],
   "source": [
    "user = spark.createDataFrame([\n",
    "    (1, \"정휘센\", \"남\"),\n",
    "    (2, \"김싸이언\", \"남\"),\n",
    "    (3, \"박트롬\", \"여\")\n",
    "]).toDF(\"u_id\", \"u_name\", \"u_gender\")\n",
    "user.printSchema()\n",
    "user.show()\n",
    "    \n",
    "purchase = spark.createDataFrame([\n",
    "    (2, \"LG DIOS\", 2000000),\n",
    "    (3, \"LG Cyon\", 1800000),\n",
    "    (4, \"LG Computer\", 4500000)\n",
    "]).toDF(\"p_uid\", \"p_name\", \"p_amont\")\n",
    "purchase.printSchema()\n",
    "purchase.show()"
   ]
  },
  {
   "cell_type": "markdown",
   "metadata": {},
   "source": [
    "## 2. Inner Join\n",
    "### 2.1 구매 정보와 일치하는 고객 정보를 조인 (inner)"
   ]
  },
  {
   "cell_type": "code",
   "execution_count": 4,
   "metadata": {},
   "outputs": [
    {
     "name": "stdout",
     "output_type": "stream",
     "text": [
      "+----+--------+--------+-----+-------+-------+\n",
      "|u_id|  u_name|u_gender|p_uid| p_name|p_amont|\n",
      "+----+--------+--------+-----+-------+-------+\n",
      "|   3|  박트롬|      여|    3|LG Cyon|1800000|\n",
      "|   2|김싸이언|      남|    2|LG DIOS|2000000|\n",
      "+----+--------+--------+-----+-------+-------+\n",
      "\n"
     ]
    },
    {
     "data": {
      "text/plain": [
       "2"
      ]
     },
     "execution_count": 4,
     "metadata": {},
     "output_type": "execute_result"
    }
   ],
   "source": [
    "user.join(purchase, user.u_id == purchase.p_uid).show()\n",
    "user.join(purchase, user.u_id == purchase.p_uid, \"inner\").count()"
   ]
  },
  {
   "cell_type": "markdown",
   "metadata": {},
   "source": [
    "## 3. Outer Join\n",
    "### 3.1 모든 고객의 정보 구매 정보를 조인 (left_outer)"
   ]
  },
  {
   "cell_type": "code",
   "execution_count": 5,
   "metadata": {},
   "outputs": [
    {
     "name": "stdout",
     "output_type": "stream",
     "text": [
      "+----+--------+--------+-----+-------+-------+\n",
      "|u_id|  u_name|u_gender|p_uid| p_name|p_amont|\n",
      "+----+--------+--------+-----+-------+-------+\n",
      "|   1|  정휘센|      남| null|   null|   null|\n",
      "|   2|김싸이언|      남|    2|LG DIOS|2000000|\n",
      "|   3|  박트롬|      여|    3|LG Cyon|1800000|\n",
      "+----+--------+--------+-----+-------+-------+\n",
      "\n"
     ]
    }
   ],
   "source": [
    "user.join(purchase, user.u_id == purchase.p_uid, \"left_outer\").orderBy(purchase.p_uid.asc()).show()"
   ]
  },
  {
   "cell_type": "markdown",
   "metadata": {},
   "source": [
    "### 3-2. 모든 상품에 대한 고객 정보를 조인 (right_outer)"
   ]
  },
  {
   "cell_type": "code",
   "execution_count": 6,
   "metadata": {},
   "outputs": [
    {
     "name": "stdout",
     "output_type": "stream",
     "text": [
      "+----+--------+--------+-----+-----------+-------+\n",
      "|u_id|  u_name|u_gender|p_uid|     p_name|p_amont|\n",
      "+----+--------+--------+-----+-----------+-------+\n",
      "|   2|김싸이언|      남|    2|    LG DIOS|2000000|\n",
      "|   3|  박트롬|      여|    3|    LG Cyon|1800000|\n",
      "|null|    null|    null|    4|LG Computer|4500000|\n",
      "+----+--------+--------+-----+-----------+-------+\n",
      "\n"
     ]
    }
   ],
   "source": [
    "user.join(purchase, user.u_id == purchase.p_uid, \"right_outer\").orderBy(purchase.p_uid.asc()).show()"
   ]
  },
  {
   "cell_type": "markdown",
   "metadata": {},
   "source": [
    "### 3-3. 모든 고객과 상품에 대한 정보를 조인 (full_outer)"
   ]
  },
  {
   "cell_type": "code",
   "execution_count": 7,
   "metadata": {},
   "outputs": [
    {
     "name": "stdout",
     "output_type": "stream",
     "text": [
      "+----+--------+--------+-----+-----------+-------+\n",
      "|u_id|  u_name|u_gender|p_uid|     p_name|p_amont|\n",
      "+----+--------+--------+-----+-----------+-------+\n",
      "|   1|  정휘센|      남| null|       null|   null|\n",
      "|   2|김싸이언|      남|    2|    LG DIOS|2000000|\n",
      "|   3|  박트롬|      여|    3|    LG Cyon|1800000|\n",
      "|null|    null|    null|    4|LG Computer|4500000|\n",
      "+----+--------+--------+-----+-----------+-------+\n",
      "\n"
     ]
    }
   ],
   "source": [
    "user.join(purchase, user.u_id == purchase.p_uid, \"full_outer\").orderBy(purchase.p_uid.asc()).show()"
   ]
  },
  {
   "cell_type": "markdown",
   "metadata": {},
   "source": [
    "## 4. 조인시 유의할 점\n"
   ]
  },
  {
   "cell_type": "code",
   "execution_count": 8,
   "metadata": {},
   "outputs": [
    {
     "name": "stdout",
     "output_type": "stream",
     "text": [
      "root\n",
      " |-- id: long (nullable = true)\n",
      " |-- name: string (nullable = true)\n",
      " |-- gender: string (nullable = true)\n",
      "\n",
      "+---+--------+------+\n",
      "| id|    name|gender|\n",
      "+---+--------+------+\n",
      "|  1|  정휘센|    남|\n",
      "|  2|김싸이언|    남|\n",
      "|  3|  박트롬|    여|\n",
      "+---+--------+------+\n",
      "\n",
      "root\n",
      " |-- id: long (nullable = true)\n",
      " |-- name: string (nullable = true)\n",
      " |-- amount: long (nullable = true)\n",
      "\n",
      "+---+-----------+-------+\n",
      "| id|       name| amount|\n",
      "+---+-----------+-------+\n",
      "|  2|    LG DIOS|2000000|\n",
      "|  3|    LG Cyon|1800000|\n",
      "|  4|LG Computer|4500000|\n",
      "+---+-----------+-------+\n",
      "\n"
     ]
    }
   ],
   "source": [
    "u = spark.createDataFrame([\n",
    "    (1, \"정휘센\", \"남\"),\n",
    "    (2, \"김싸이언\", \"남\"),\n",
    "    (3, \"박트롬\", \"여\")\n",
    "]).toDF(\"id\", \"name\", \"gender\")\n",
    "u.printSchema()\n",
    "u.show()\n",
    "    \n",
    "p = spark.createDataFrame([\n",
    "    (2, \"LG DIOS\", 2000000),\n",
    "    (3, \"LG Cyon\", 1800000),\n",
    "    (4, \"LG Computer\", 4500000)\n",
    "]).toDF(\"id\", \"name\", \"amount\")\n",
    "p.printSchema()\n",
    "p.show()"
   ]
  },
  {
   "cell_type": "markdown",
   "metadata": {},
   "source": [
    "### 3.1 중복 컬럼명 처리가 되지 않은 경우\n",
    "> #### AnalysisException: \"Reference 'id' is ambiguous, could be: id, id.;\""
   ]
  },
  {
   "cell_type": "code",
   "execution_count": 9,
   "metadata": {},
   "outputs": [
    {
     "name": "stdout",
     "output_type": "stream",
     "text": [
      "+---+--------+------+---+-------+-------+\n",
      "| id|    name|gender| id|   name| amount|\n",
      "+---+--------+------+---+-------+-------+\n",
      "|  3|  박트롬|    여|  3|LG Cyon|1800000|\n",
      "|  2|김싸이언|    남|  2|LG DIOS|2000000|\n",
      "+---+--------+------+---+-------+-------+\n",
      "\n"
     ]
    }
   ],
   "source": [
    "up = u.join(p, u.id == p.id)\n",
    "up.show()\n",
    "# up.select(\"id\")"
   ]
  },
  {
   "cell_type": "markdown",
   "metadata": {},
   "source": [
    "### 3.2 중복 컬럼명 해결방안 - 데이터 프레임의 컬럼 명을 다르게 만든다"
   ]
  },
  {
   "cell_type": "code",
   "execution_count": 10,
   "metadata": {},
   "outputs": [
    {
     "name": "stdout",
     "output_type": "stream",
     "text": [
      "root\n",
      " |-- u_uid: long (nullable = true)\n",
      " |-- name: string (nullable = true)\n",
      " |-- gender: string (nullable = true)\n",
      "\n",
      "root\n",
      " |-- p_uid: long (nullable = true)\n",
      " |-- name: string (nullable = true)\n",
      " |-- amount: long (nullable = true)\n",
      "\n",
      "+-----+--------+------+-----+-------+-------+\n",
      "|u_uid|    name|gender|p_uid|   name| amount|\n",
      "+-----+--------+------+-----+-------+-------+\n",
      "|    3|  박트롬|    여|    3|LG Cyon|1800000|\n",
      "|    2|김싸이언|    남|    2|LG DIOS|2000000|\n",
      "+-----+--------+------+-----+-------+-------+\n",
      "\n"
     ]
    },
    {
     "data": {
      "text/plain": [
       "DataFrame[u_uid: bigint]"
      ]
     },
     "execution_count": 10,
     "metadata": {},
     "output_type": "execute_result"
    }
   ],
   "source": [
    "u1 = u.withColumnRenamed(\"id\", \"u_uid\")\n",
    "p1 = p.withColumnRenamed(\"id\", \"p_uid\")\n",
    "u1.printSchema()\n",
    "p1.printSchema()\n",
    "\n",
    "up = u1.join(p1, u1.u_uid == p1.p_uid)\n",
    "up.show()\n",
    "up.select(\"u_uid\")"
   ]
  },
  {
   "cell_type": "markdown",
   "metadata": {},
   "source": [
    "### 3.3 중복 컬럼명 해결방안 - 조인 직후 중복 컬럼을 제거합니다"
   ]
  },
  {
   "cell_type": "code",
   "execution_count": 11,
   "metadata": {},
   "outputs": [
    {
     "name": "stdout",
     "output_type": "stream",
     "text": [
      "+---+--------+------+-------+-------+\n",
      "| id|    name|gender|   name| amount|\n",
      "+---+--------+------+-------+-------+\n",
      "|  3|  박트롬|    여|LG Cyon|1800000|\n",
      "|  2|김싸이언|    남|LG DIOS|2000000|\n",
      "+---+--------+------+-------+-------+\n",
      "\n"
     ]
    },
    {
     "data": {
      "text/plain": [
       "DataFrame[id: bigint]"
      ]
     },
     "execution_count": 11,
     "metadata": {},
     "output_type": "execute_result"
    }
   ],
   "source": [
    "up = u.join(p, u.id == p.id).drop(p.id)\n",
    "up.show()\n",
    "up.select(\"id\")"
   ]
  },
  {
   "cell_type": "markdown",
   "metadata": {},
   "source": [
    "### 실습#7 data/tbl_purchase.csv 과 data/tbl_user.csv 파일을 읽고, 상품을 구매한 고객에 대해서만 이름과 상품을 같이 출력하세요 (inner join을 사용하세요)\n",
    "> 참고: user.join(purchase, condition, \"inner\")"
   ]
  },
  {
   "cell_type": "code",
   "execution_count": 12,
   "metadata": {},
   "outputs": [
    {
     "name": "stdout",
     "output_type": "stream",
     "text": [
      "+----+----------+--------+--------+----------+-----+----+-----------+--------+\n",
      "|u_id|    u_name|u_gender|u_signup|    p_time|p_uid|p_id|     p_name|p_amount|\n",
      "+----+----------+--------+--------+----------+-----+----+-----------+--------+\n",
      "|   1|    정휘센|      남|19580808|1603694755|    1|2000|    LG Gram| 1800000|\n",
      "|   1|    정휘센|      남|19580808|1603651550|    1|2000|    LG DIOS| 2000000|\n",
      "|   2|  김싸이언|      남|19590201|1603673500|    2|2001|    LG Cyon| 1400000|\n",
      "|   3|    박트롬|      여|19951030|1603652155|    3|2002|      LG TV| 1000000|\n",
      "|   4|    청소기|      남|19770329|1603674500|    4|2003|LG Computer| 4500000|\n",
      "|   5|유코드제로|      여|20021029|1603666155|    5|2004|      LG TV| 2500000|\n",
      "|   5|유코드제로|      여|20021029|1603665955|    5|2004|    LG Gram| 3500000|\n",
      "+----+----------+--------+--------+----------+-----+----+-----------+--------+\n",
      "\n",
      "root\n",
      " |-- p_time: integer (nullable = true)\n",
      " |-- p_uid: integer (nullable = true)\n",
      " |-- p_id: integer (nullable = true)\n",
      " |-- p_name: string (nullable = true)\n",
      " |-- p_amount: integer (nullable = true)\n",
      "\n",
      "root\n",
      " |-- u_id: integer (nullable = true)\n",
      " |-- u_name: string (nullable = true)\n",
      " |-- u_gender: string (nullable = true)\n",
      " |-- u_signup: integer (nullable = true)\n",
      "\n"
     ]
    }
   ],
   "source": [
    "purchase = spark.read.option(\"header\", \"true\").option(\"inferSchema\", \"true\").csv(\"data/tbl_purchase.csv\")\n",
    "user = spark.read.option(\"header\", \"true\").option(\"inferSchema\", \"true\").csv(\"data/tbl_user.csv\")\n",
    "\n",
    "user.join(purchase, user.u_id == purchase.p_uid, \"inner\").show()\n",
    "\n",
    "purchase.printSchema()\n",
    "user.printSchema()"
   ]
  },
  {
   "cell_type": "markdown",
   "metadata": {},
   "source": [
    "### 실습#8 data/tbl_purchase.csv 과 data/tbl_user.csv 파일을 읽고, 모든 고객의 이름과 상품을 같이 출력하세요 (left outer join을 사용하세요)\n",
    "> 참고: user.join(purchase, condition, \"left\")"
   ]
  },
  {
   "cell_type": "code",
   "execution_count": 13,
   "metadata": {},
   "outputs": [
    {
     "name": "stdout",
     "output_type": "stream",
     "text": [
      "+----+----------+--------+--------+----------+-----+----+-----------+--------+\n",
      "|u_id|    u_name|u_gender|u_signup|    p_time|p_uid|p_id|     p_name|p_amount|\n",
      "+----+----------+--------+--------+----------+-----+----+-----------+--------+\n",
      "|   1|    정휘센|      남|19580808|1603694755|    1|2000|    LG Gram| 1800000|\n",
      "|   1|    정휘센|      남|19580808|1603651550|    1|2000|    LG DIOS| 2000000|\n",
      "|   2|  김싸이언|      남|19590201|1603673500|    2|2001|    LG Cyon| 1400000|\n",
      "|   3|    박트롬|      여|19951030|1603652155|    3|2002|      LG TV| 1000000|\n",
      "|   4|    청소기|      남|19770329|1603674500|    4|2003|LG Computer| 4500000|\n",
      "|   5|유코드제로|      여|20021029|1603666155|    5|2004|      LG TV| 2500000|\n",
      "|   5|유코드제로|      여|20021029|1603665955|    5|2004|    LG Gram| 3500000|\n",
      "|   6|  윤디오스|      남|20040101|      null| null|null|       null|    null|\n",
      "|   7|  임모바일|      남|20040807|      null| null|null|       null|    null|\n",
      "|   8|  조노트북|      여|20161201|      null| null|null|       null|    null|\n",
      "|   9|  최컴퓨터|      남|20201124|      null| null|null|       null|    null|\n",
      "+----+----------+--------+--------+----------+-----+----+-----------+--------+\n",
      "\n",
      "root\n",
      " |-- p_time: integer (nullable = true)\n",
      " |-- p_uid: integer (nullable = true)\n",
      " |-- p_id: integer (nullable = true)\n",
      " |-- p_name: string (nullable = true)\n",
      " |-- p_amount: integer (nullable = true)\n",
      "\n",
      "root\n",
      " |-- u_id: integer (nullable = true)\n",
      " |-- u_name: string (nullable = true)\n",
      " |-- u_gender: string (nullable = true)\n",
      " |-- u_signup: integer (nullable = true)\n",
      "\n"
     ]
    }
   ],
   "source": [
    "purchase = spark.read.option(\"header\", \"true\").option(\"inferSchema\", \"true\").csv(\"data/tbl_purchase.csv\")\n",
    "user = spark.read.option(\"header\", \"true\").option(\"inferSchema\", \"true\").csv(\"data/tbl_user.csv\")\n",
    "\n",
    "user.join(purchase, user.u_id == purchase.p_uid, \"left_outer\").show()\n",
    "\n",
    "purchase.printSchema()\n",
    "user.printSchema()"
   ]
  },
  {
   "cell_type": "code",
   "execution_count": null,
   "metadata": {},
   "outputs": [],
   "source": []
  }
 ],
 "metadata": {
  "kernelspec": {
   "display_name": "Python 3",
   "language": "python",
   "name": "python3"
  },
  "language_info": {
   "codemirror_mode": {
    "name": "ipython",
    "version": 3
   },
   "file_extension": ".py",
   "mimetype": "text/x-python",
   "name": "python",
   "nbconvert_exporter": "python",
   "pygments_lexer": "ipython3",
   "version": "3.8.6"
  }
 },
 "nbformat": 4,
 "nbformat_minor": 4
}
