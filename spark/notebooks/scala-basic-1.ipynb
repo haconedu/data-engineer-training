{
 "cells": [
  {
   "cell_type": "code",
   "execution_count": 1,
   "metadata": {},
   "outputs": [
    {
     "data": {
      "text/plain": [
       "Intitializing Scala interpreter ..."
      ]
     },
     "metadata": {},
     "output_type": "display_data"
    },
    {
     "data": {
      "text/plain": [
       "Spark Web UI available at http://824b3d590065:4041\n",
       "SparkContext available as 'sc' (version = 3.0.1, master = local[*], app id = local-1613105360164)\n",
       "SparkSession available as 'spark'\n"
      ]
     },
     "metadata": {},
     "output_type": "display_data"
    },
    {
     "data": {
      "text/plain": [
       "res0: org.apache.spark.sql.SparkSession = org.apache.spark.sql.SparkSession@47229525\n"
      ]
     },
     "execution_count": 1,
     "metadata": {},
     "output_type": "execute_result"
    }
   ],
   "source": [
    "spark"
   ]
  },
  {
   "cell_type": "code",
   "execution_count": 2,
   "metadata": {},
   "outputs": [
    {
     "data": {
      "text/plain": [
       "emp: Seq[(Int, String, Some[Int])] = List((101,Amy,Some(2)))\n",
       "employee: org.apache.spark.sql.DataFrame = [employeeId: int, employeeName: string ... 1 more field]\n"
      ]
     },
     "execution_count": 2,
     "metadata": {},
     "output_type": "execute_result"
    }
   ],
   "source": [
    "val emp = Seq((101, \"Amy\", Some(2)))\n",
    "val employee = spark.createDataFrame(emp).toDF(\"employeeId\",\"employeeName\",\"managerId\")"
   ]
  },
  {
   "cell_type": "code",
   "execution_count": 4,
   "metadata": {},
   "outputs": [
    {
     "name": "stdout",
     "output_type": "stream",
     "text": [
      "root\n",
      " |-- employeeId: integer (nullable = false)\n",
      " |-- employeeName: string (nullable = true)\n",
      " |-- managerId: integer (nullable = true)\n",
      "\n",
      "+----------+------------+---------+\n",
      "|employeeId|employeeName|managerId|\n",
      "+----------+------------+---------+\n",
      "|101       |Amy         |2        |\n",
      "+----------+------------+---------+\n",
      "\n"
     ]
    }
   ],
   "source": [
    "employee.printSchema()\n",
    "employee.show(false)"
   ]
  },
  {
   "cell_type": "code",
   "execution_count": null,
   "metadata": {},
   "outputs": [],
   "source": []
  }
 ],
 "metadata": {
  "kernelspec": {
   "display_name": "spylon-kernel",
   "language": "scala",
   "name": "spylon-kernel"
  },
  "language_info": {
   "codemirror_mode": "text/x-scala",
   "file_extension": ".scala",
   "help_links": [
    {
     "text": "MetaKernel Magics",
     "url": "https://metakernel.readthedocs.io/en/latest/source/README.html"
    }
   ],
   "mimetype": "text/x-scala",
   "name": "scala",
   "pygments_lexer": "scala",
   "version": "0.4.1"
  }
 },
 "nbformat": 4,
 "nbformat_minor": 4
}
